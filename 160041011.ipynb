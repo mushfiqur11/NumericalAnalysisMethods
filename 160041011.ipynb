{
  "nbformat": 4,
  "nbformat_minor": 0,
  "metadata": {
    "colab": {
      "name": "160041011.ipynb",
      "provenance": [],
      "collapsed_sections": [],
      "include_colab_link": true
    },
    "kernelspec": {
      "name": "python3",
      "display_name": "Python 3"
    }
  },
  "cells": [
    {
      "cell_type": "markdown",
      "metadata": {
        "id": "view-in-github",
        "colab_type": "text"
      },
      "source": [
        "<a href=\"https://colab.research.google.com/github/mushfiqur11/NumericalAnalysisMethods/blob/master/160041011.ipynb\" target=\"_parent\"><img src=\"https://colab.research.google.com/assets/colab-badge.svg\" alt=\"Open In Colab\"/></a>"
      ]
    },
    {
      "cell_type": "markdown",
      "metadata": {
        "id": "fekkYlch-WDW",
        "colab_type": "text"
      },
      "source": [
        "### Name : Md. Mushfiqur Rahman\n",
        "\n",
        "#### ID : 160041011\n",
        "#### Group : Y"
      ]
    },
    {
      "cell_type": "markdown",
      "metadata": {
        "id": "gwDvqsiZ3LlQ",
        "colab_type": "text"
      },
      "source": [
        "##### Imports"
      ]
    },
    {
      "cell_type": "code",
      "metadata": {
        "id": "HLR6GhioAiJ8",
        "colab_type": "code",
        "colab": {}
      },
      "source": [
        "import numpy as np\n",
        "import matplotlib.pyplot as plt\n",
        "import math\n"
      ],
      "execution_count": 0,
      "outputs": []
    },
    {
      "cell_type": "markdown",
      "metadata": {
        "id": "3j4YT8lC6vxj",
        "colab_type": "text"
      },
      "source": [
        "For comparing between the Runge Kutta 2nd order method and Runge Kutta 4th order method, I'll be using the problem given in the pdf. \n",
        "\n",
        "## Problem :\n",
        "\n",
        "$$ f = e^{-2x} - 2y $$\n",
        "\n",
        "$y_{0} = 1 $, $ x_0 = 0$ and $ x = 1$"
      ]
    },
    {
      "cell_type": "code",
      "metadata": {
        "id": "6V0QzNWi8xRc",
        "colab_type": "code",
        "colab": {}
      },
      "source": [
        "def function(x,y):\n",
        "  return math.exp(-2 * x) - 2 * y\n"
      ],
      "execution_count": 0,
      "outputs": []
    },
    {
      "cell_type": "markdown",
      "metadata": {
        "id": "gS6opoDZ4kj3",
        "colab_type": "text"
      },
      "source": [
        "#### Runge Kutta 2nd Order"
      ]
    },
    {
      "cell_type": "code",
      "metadata": {
        "id": "HO0ntRrF4hR-",
        "colab_type": "code",
        "colab": {}
      },
      "source": [
        "def rungeKutta2(x0,y0,x,h):\n",
        "    n = int((x-x0)/h)  \n",
        "    y=y0\n",
        "    for i in range(0,n):\n",
        "        k1 =  function(x0, y)\n",
        "        k2 =  function(x0+h ,y+k1*h)\n",
        "        y=y+.5*(k1+k2)*h\n",
        "        x0=x0+h\n",
        "        return y"
      ],
      "execution_count": 0,
      "outputs": []
    },
    {
      "cell_type": "markdown",
      "metadata": {
        "id": "PcHfYE3e4q1m",
        "colab_type": "text"
      },
      "source": [
        "#### Runge Kutta 4th Order"
      ]
    },
    {
      "cell_type": "code",
      "metadata": {
        "id": "Chhh2D944ulX",
        "colab_type": "code",
        "colab": {}
      },
      "source": [
        "def rungeKutta4(x0,y0,x,h):\n",
        "    n = int((x-x0)/h)  \n",
        "    y=y0\n",
        "    for i in range(0,n):\n",
        "        k1 = h * function(x0,y)\n",
        "        k2 = h * function(x0+0.5*h,y+k1*0.5)\n",
        "        k3 = h * function(x0+0.5*h,y+k2*0.5)\n",
        "        k4 = h * function(x0 + h, y + k3) \n",
        "        y = y + (1.0/6.0)*(k1+2*k2+2*k3+k4)\n",
        "        x0 = x0 + h\n",
        "        return y"
      ],
      "execution_count": 0,
      "outputs": []
    },
    {
      "cell_type": "code",
      "metadata": {
        "id": "ePbaZEH4BdmU",
        "colab_type": "code",
        "colab": {}
      },
      "source": [
        "def calcError(a,b):\n",
        "  \n",
        "  return abs((a-b)/a)*100"
      ],
      "execution_count": 0,
      "outputs": []
    },
    {
      "cell_type": "markdown",
      "metadata": {
        "id": "FTvIQQ4qAJs4",
        "colab_type": "text"
      },
      "source": [
        "####Initialization"
      ]
    },
    {
      "cell_type": "code",
      "metadata": {
        "id": "yrqV1reeAOHb",
        "colab_type": "code",
        "colab": {}
      },
      "source": [
        "hVals=[0.8,0.7,0.6,0.5,0.4,0.3,0.2]\n",
        "x = 1\n",
        "x0 = 0\n",
        "y0 = 1"
      ],
      "execution_count": 0,
      "outputs": []
    },
    {
      "cell_type": "markdown",
      "metadata": {
        "id": "MZbt1IFjAUEE",
        "colab_type": "text"
      },
      "source": [
        "#### Runge Kutta 2nd Order call\n",
        "  I have used the Heun's method"
      ]
    },
    {
      "cell_type": "code",
      "metadata": {
        "id": "Irn1oo3WEKwL",
        "colab_type": "code",
        "outputId": "aabdc96d-b418-4c04-d26f-517e06474585",
        "colab": {
          "base_uri": "https://localhost:8080/",
          "height": 139
        }
      },
      "source": [
        "result2=[]\n",
        "\n",
        "for i in range(len(hVals)):\n",
        "  result = rungeKutta2(x0,y0,x,hVals[i])\n",
        "  print (\"For h = \"+str(hVals[i])+\" y= \" + str(result))\n",
        "  result2.append(result)"
      ],
      "execution_count": 56,
      "outputs": [
        {
          "output_type": "stream",
          "text": [
            "For h = 0.8 y= 0.5207586071978623\n",
            "For h = 0.7 y= 0.5263089373795622\n",
            "For h = 0.6 y= 0.5503582635736606\n",
            "For h = 0.5 y= 0.5919698602928606\n",
            "For h = 0.4 y= 0.6498657928234444\n",
            "For h = 0.3 y= 0.722321745414104\n",
            "For h = 0.2 y= 0.807032004603564\n"
          ],
          "name": "stdout"
        }
      ]
    },
    {
      "cell_type": "markdown",
      "metadata": {
        "id": "SozxO5VBAcL8",
        "colab_type": "text"
      },
      "source": [
        "#### RungeKutta 4th order call"
      ]
    },
    {
      "cell_type": "code",
      "metadata": {
        "id": "uGUcWDKiAkg8",
        "colab_type": "code",
        "colab": {
          "base_uri": "https://localhost:8080/",
          "height": 139
        },
        "outputId": "ba04afc3-0c93-4dbb-d2d7-0e8808282db6"
      },
      "source": [
        "result4=[]\n",
        "\n",
        "for i in range(len(hVals)):\n",
        "  result = rungeKutta4(x0,y0,x,hVals[i])\n",
        "  print (\"For h = \"+ str(hVals[i])+\" y=\" + str(result))\n",
        "  result4.append(result)"
      ],
      "execution_count": 57,
      "outputs": [
        {
          "output_type": "stream",
          "text": [
            "For h = 0.8 y=0.37606676844779696\n",
            "For h = 0.7 y=0.4254345080574693\n",
            "For h = 0.6 y=0.4846437207650345\n",
            "For h = 0.5 y=0.5528505075377522\n",
            "For h = 0.4 y=0.629373299288944\n",
            "For h = 0.3 y=0.7135224966862773\n",
            "For h = 0.2 y=0.8043918972043806\n"
          ],
          "name": "stdout"
        }
      ]
    },
    {
      "cell_type": "code",
      "metadata": {
        "id": "je2JBhCkCLEw",
        "colab_type": "code",
        "outputId": "49400cef-665e-4eb9-9ca2-528ef70ce68a",
        "colab": {
          "base_uri": "https://localhost:8080/",
          "height": 283
        }
      },
      "source": [
        "plt.plot(hVals, result2,label = \"Runge Kutta Second Order\")\n",
        "plt.plot(hVals, result4,label = \"Runge Kutta Fourth Order\")\n",
        "plt.xlabel('h')\n",
        "plt.ylabel('y')\n",
        "plt.legend()\n",
        "plt.show()"
      ],
      "execution_count": 58,
      "outputs": [
        {
          "output_type": "display_data",
          "data": {
            "image/png": "[encoded data removed]",
            "text/plain": [
              "<Figure size 432x288 with 1 Axes>"
            ]
          },
          "metadata": {
            "tags": []
          }
        }
      ]
    },
    {
      "cell_type": "markdown",
      "metadata": {
        "id": "m5TBschMEhRe",
        "colab_type": "text"
      },
      "source": [
        "#### Error Calculation"
      ]
    },
    {
      "cell_type": "code",
      "metadata": {
        "id": "lEA7hv9rEgbo",
        "colab_type": "code",
        "colab": {}
      },
      "source": [
        "def ARE(result):\n",
        "  absRelErr = []\n",
        "  for i in range(0,len(result)-1):\n",
        "  \n",
        "    err = calcError(result[i],result[i+1])\n",
        "    absRelErr.append(err)\n",
        "  return absRelErr"
      ],
      "execution_count": 0,
      "outputs": []
    },
    {
      "cell_type": "code",
      "metadata": {
        "id": "aog32wfOD_Rn",
        "colab_type": "code",
        "outputId": "f4928d0a-3d5f-4e60-a59b-b37230f4d532",
        "colab": {
          "base_uri": "https://localhost:8080/",
          "height": 318
        }
      },
      "source": [
        "Err2 = ARE(result2)\n",
        "print(np.shape(Err2)[0])\n",
        "Err4 = ARE(result4)\n",
        "print(np.shape(Err4)[0])\n",
        "\n",
        "plt.figure()\n",
        "plt.plot(hVals[0:np.shape(Err2)[0]], Err2, label = '2nd order')\n",
        "plt.plot(hVals[0:np.shape(Err2)[0]], Err4, label = '4th order')\n",
        "plt.xlabel('h')\n",
        "plt.ylabel('absolute relative error')\n",
        "plt.legend()\n",
        "plt.show()"
      ],
      "execution_count": 67,
      "outputs": [
        {
          "output_type": "stream",
          "text": [
            "6\n",
            "6\n"
          ],
          "name": "stdout"
        },
        {
          "output_type": "display_data",
          "data": {
            "image/png": "[encoded data removed]",
            "text/plain": [
              "<Figure size 432x288 with 1 Axes>"
            ]
          },
          "metadata": {
            "tags": []
          }
        }
      ]
    },
    {
      "cell_type": "markdown",
      "metadata": {
        "id": "5oVgdVUjEa0J",
        "colab_type": "text"
      },
      "source": [
        "#### Observation\n",
        "We can clearly see from the figures that lower value of h gives better approximation and lower error. Also Runge Kutta 4th order equation has less error than Runge Kutta 2nd order. But we also need to keep in mind that the time complexity is higher in 4th order Runge Kutta."
      ]
    },
    {
      "cell_type": "code",
      "metadata": {
        "id": "1BNwcyyBFzER",
        "colab_type": "code",
        "colab": {}
      },
      "source": [
        ""
      ],
      "execution_count": 0,
      "outputs": []
    }
  ]
}