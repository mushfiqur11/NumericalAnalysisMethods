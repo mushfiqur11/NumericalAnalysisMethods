{
  "nbformat": 4,
  "nbformat_minor": 0,
  "metadata": {
    "colab": {
      "name": "160041011_Lab04.ipynb",
      "version": "0.3.2",
      "provenance": [],
      "collapsed_sections": [],
      "include_colab_link": true
    },
    "kernelspec": {
      "name": "python3",
      "display_name": "Python 3"
    }
  },
  "cells": [
    {
      "cell_type": "markdown",
      "metadata": {
        "id": "view-in-github",
        "colab_type": "text"
      },
      "source": [
        "<a href=\"https://colab.research.google.com/github/mushfiqur11/NumericalAnalysisMethods/blob/master/160041011_Lab04.ipynb\" target=\"_parent\"><img src=\"https://colab.research.google.com/assets/colab-badge.svg\" alt=\"Open In Colab\"/></a>"
      ]
    },
    {
      "cell_type": "markdown",
      "metadata": {
        "id": "WJiGI1KR_SJe",
        "colab_type": "text"
      },
      "source": [
        "# Numerical Analysis Methods\n",
        "- Md. Mushfiqur Rahman (160041011)\n",
        "\n",
        "### Lab 04\n",
        "Topic : Simpson 3/8 Rule for Integration\n",
        "  \n",
        "Reference : http://mathforcollege.com/nm/mws/gen/07int/mws_gen_int_txt_simpson3by8.pdf"
      ]
    },
    {
      "cell_type": "code",
      "metadata": {
        "id": "97To3pLZWKzQ",
        "colab_type": "code",
        "colab": {}
      },
      "source": [
        "import numpy as np\n",
        "from math import e\n",
        "from numpy.lib.scimath import logn"
      ],
      "execution_count": 0,
      "outputs": []
    },
    {
      "cell_type": "markdown",
      "metadata": {
        "id": "dBqTokVEAPvH",
        "colab_type": "text"
      },
      "source": [
        "### Problem Statement:\n",
        "The vertical distance in meters covered by a rocket from $t=8$ to $t=30$ seconds is given by $$s = \\int_{8}^{30}\\left(2000ln\\left[\\frac{140000}{140000-2100t}\\right] \\right)dt$$\n",
        "Use Simpson 3/8 multiple segments rule with six segments to estimate the vertical distance."
      ]
    },
    {
      "cell_type": "markdown",
      "metadata": {
        "id": "x-rGGAeUBiez",
        "colab_type": "text"
      },
      "source": [
        "### Solution:"
      ]
    },
    {
      "cell_type": "markdown",
      "metadata": {
        "id": "f3CuH7q-Bmwh",
        "colab_type": "text"
      },
      "source": [
        "#### Defining the function that calculates $$f(t) = 2000ln\\left[\\frac{140000}{140000-2100t}\\right] $$"
      ]
    },
    {
      "cell_type": "code",
      "metadata": {
        "id": "iZNyyf9MV2lI",
        "colab_type": "code",
        "colab": {}
      },
      "source": [
        "def functionX(x):\n",
        "  tempX = 140000/(140000- 2100*x)\n",
        "  temp2X = 2000*logn(e,tempX)\n",
        "  temp3X = temp2X-9.8*x\n",
        "  return temp3X"
      ],
      "execution_count": 0,
      "outputs": []
    },
    {
      "cell_type": "markdown",
      "metadata": {
        "id": "W9w3f_9hB6PZ",
        "colab_type": "text"
      },
      "source": [
        "#### Defining the function that calculates the integral value:\n",
        "- Inputs: \n",
        "    - Starting point of integral\n",
        "    - Ending point of integral\n",
        "    - Number of segments\n",
        "- Steps:\n",
        "    - Calculate $h$ by the formula $h= \\frac{b-a}{n}$\n",
        "    - Find the time values at each point and store it in an array\n",
        "    - Find $f(t_i)$ for each $t_i$ in the array of time.\n",
        "    - Calculate the final integral with the Simpson 3/8 Rule formula for multi segments: $$I = \\frac{3h}{8}\\left(h\\right)\\left(f(x_0)+3\\sum_{i=1,4,7...}^{n-2}f(x_i)+3\\sum_{i=2,5,8...}^{n-1}f(x_i)+2\\sum_{i=3,6,9...}^{n-3}f(x_i)+f(x_n)\\right)$$\n",
        "    - The function returns the value of the obtained integral."
      ]
    },
    {
      "cell_type": "code",
      "metadata": {
        "id": "TuC5Y2HuXM58",
        "colab_type": "code",
        "colab": {}
      },
      "source": [
        "def Simpsons3by8(a,b,n):\n",
        "  h = (b-a)/n\n",
        "#   print(h)\n",
        "  T=np.zeros((n+1,1))\n",
        "  F=np.zeros((n+1,1))\n",
        "  T[0] = a\n",
        "  for i in range (1,n+1):\n",
        "    T[i]=T[i-1]+h\n",
        "  for i in range (0,n+1):\n",
        "    F[i] = functionX(T[i])\n",
        "  I = 0\n",
        "  I = I+F[0]+F[n]\n",
        "  for i in range(1,n):\n",
        "    if (i % 3 == 1):\n",
        "      I = I+3*F[i]\n",
        "#       print(i,\" times 3 \",F[i])\n",
        "    elif (i%3 == 2):\n",
        "      I = I+3*F[i]\n",
        "#       print(i,\" times 3 \",F[i])\n",
        "    else:\n",
        "      I = I + 2*F[i]\n",
        "#       print(i,\" times 2 \",F[i])\n",
        "  I = I * (3/8) * h\n",
        "      \n",
        "  return I"
      ],
      "execution_count": 0,
      "outputs": []
    },
    {
      "cell_type": "code",
      "metadata": {
        "id": "D_iHiCj4XT7F",
        "colab_type": "code",
        "outputId": "0993cf93-0966-4721-f45b-74b0b46fb474",
        "colab": {
          "base_uri": "https://localhost:8080/",
          "height": 34
        }
      },
      "source": [
        "Simpsons3by8(8,30,6)"
      ],
      "execution_count": 54,
      "outputs": [
        {
          "output_type": "execute_result",
          "data": {
            "text/plain": [
              "array([11061.4696773])"
            ]
          },
          "metadata": {
            "tags": []
          },
          "execution_count": 54
        }
      ]
    },
    {
      "cell_type": "code",
      "metadata": {
        "id": "XAVqPPZuYM5C",
        "colab_type": "code",
        "colab": {}
      },
      "source": [
        ""
      ],
      "execution_count": 0,
      "outputs": []
    }
  ]
}