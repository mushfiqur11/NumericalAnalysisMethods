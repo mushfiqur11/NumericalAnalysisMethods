{
  "nbformat": 4,
  "nbformat_minor": 0,
  "metadata": {
    "colab": {
      "name": "160041011_Lab2_NumericalAnalysisMethods.ipynb",
      "version": "0.3.2",
      "provenance": [],
      "collapsed_sections": [],
      "include_colab_link": true
    },
    "kernelspec": {
      "name": "python3",
      "display_name": "Python 3"
    }
  },
  "cells": [
    {
      "cell_type": "markdown",
      "metadata": {
        "id": "view-in-github",
        "colab_type": "text"
      },
      "source": [
        "<a href=\"https://colab.research.google.com/github/mushfiqur11/NumericalAnalysisMethods/blob/master/160041011_Lab2_NumericalAnalysisMethods.ipynb\" target=\"_parent\"><img src=\"https://colab.research.google.com/assets/colab-badge.svg\" alt=\"Open In Colab\"/></a>"
      ]
    },
    {
      "cell_type": "markdown",
      "metadata": {
        "id": "foLLyU1Vtwm3",
        "colab_type": "text"
      },
      "source": [
        "# Math 4642 [Numerical Analysis Lab]\n",
        "\n",
        "## Lab 02\n",
        "\n",
        "### Md. Mushfiqur Rahman\n",
        "### ID:160041011"
      ]
    },
    {
      "cell_type": "code",
      "metadata": {
        "id": "74AAxa-6-N9o",
        "colab_type": "code",
        "colab": {}
      },
      "source": [
        ""
      ],
      "execution_count": 0,
      "outputs": []
    },
    {
      "cell_type": "markdown",
      "metadata": {
        "id": "KI7cynKD9_uS",
        "colab_type": "text"
      },
      "source": [
        "Imports"
      ]
    },
    {
      "cell_type": "code",
      "metadata": {
        "id": "9UeN28cM_i7n",
        "colab_type": "code",
        "colab": {}
      },
      "source": [
        "import numpy as np\n",
        "import matplotlib.pyplot as plt"
      ],
      "execution_count": 0,
      "outputs": []
    },
    {
      "cell_type": "markdown",
      "metadata": {
        "id": "EVqwyL3KuaMV",
        "colab_type": "text"
      },
      "source": [
        "\n",
        "### Task 01\n",
        "1. You are working for a start-up computer assembly company and have been asked to determine the minimum number of computers that the shop will have to sell to make a profit. The equation that gives the minimum number of computers  to be sold after considering the total costs and the total sales is $$f(x)=40x^{1.5} - 875x+35000=0 $$ Use the bisection method of finding roots of equations to find the minimum number of computers that need to be sold to make a profit. [See the lecture materials for the algorithm] Conduct **20 iterations**  to estimate the root of the above equation. Find the absolute relative approximate error at the end of each iteration and the number of significant digits at least correct at the end of each iteration. Use the function name as **my_bisection_method()** which will return your result. \n",
        "\n",
        "2. The return value of the function will be a **numpy** array containing 20 approximations. Now write another function **relative_approximate_error()** which will return another numpy array of relative approximate errors. \n",
        "\n",
        "\n",
        "\n",
        "\n",
        "\n",
        "\n"
      ]
    },
    {
      "cell_type": "code",
      "metadata": {
        "id": "0-sdBKkg_wuJ",
        "colab_type": "code",
        "colab": {}
      },
      "source": [
        "def f(x):\n",
        "  return 40*pow(x,1.5)-875*x+35000"
      ],
      "execution_count": 0,
      "outputs": []
    },
    {
      "cell_type": "code",
      "metadata": {
        "id": "7SU-0x4mtnRz",
        "colab_type": "code",
        "colab": {}
      },
      "source": [
        "def my_bisection_method(x_l, x_u, n):\n",
        "    \n",
        "    approximations = np.zeros([1,n])\n",
        "    x_m = (x_l + x_u)/2\n",
        "    \n",
        "    for i in range(0,n):\n",
        "        \n",
        "        if f(x_l)*f(x_m) <0:\n",
        "            x_u = x_m\n",
        "        elif f(x_l) * f(x_m)>0:\n",
        "            x_l = x_m\n",
        "        else:\n",
        "            print('found root')\n",
        "        approximations[0, i] = x_m\n",
        "        x_m = (x_l + x_u)/2\n",
        "        \n",
        "        \n",
        "    \n",
        "    return approximations\n",
        "    "
      ],
      "execution_count": 0,
      "outputs": []
    },
    {
      "cell_type": "code",
      "metadata": {
        "id": "ezjNDx-HBYKQ",
        "colab_type": "code",
        "outputId": "b7025006-24a8-4e70-df62-4cda67530059",
        "colab": {
          "base_uri": "https://localhost:8080/",
          "height": 85
        }
      },
      "source": [
        "results_bisection = my_bisection_method(50, 100, 20)\n",
        "print(results_bisection)"
      ],
      "execution_count": 0,
      "outputs": [
        {
          "output_type": "stream",
          "text": [
            "[[75.         62.5        68.75       65.625      64.0625     63.28125\n",
            "  62.890625   62.6953125  62.59765625 62.64648438 62.67089844 62.68310547\n",
            "  62.68920898 62.69226074 62.69073486 62.6914978  62.69187927 62.69168854\n",
            "  62.69178391 62.69173622]]\n"
          ],
          "name": "stdout"
        }
      ]
    },
    {
      "cell_type": "code",
      "metadata": {
        "id": "h-nFnHJhB9Z2",
        "colab_type": "code",
        "outputId": "3b4acad1-a3db-4b6d-e9a1-b376f156bdd0",
        "colab": {
          "base_uri": "https://localhost:8080/",
          "height": 286
        }
      },
      "source": [
        "plt.plot(results_bisection.T, 'b^-')"
      ],
      "execution_count": 0,
      "outputs": [
        {
          "output_type": "execute_result",
          "data": {
            "text/plain": [
              "[<matplotlib.lines.Line2D at 0x7f810621d438>]"
            ]
          },
          "metadata": {
            "tags": []
          },
          "execution_count": 72
        },
        {
          "output_type": "display_data",
          "data": {
            "image/png": "[encoded data removed]",
            "text/plain": [
              "<Figure size 432x288 with 1 Axes>"
            ]
          },
          "metadata": {
            "tags": []
          }
        }
      ]
    },
    {
      "cell_type": "code",
      "metadata": {
        "id": "DP9On5Qb0FK-",
        "colab_type": "code",
        "colab": {}
      },
      "source": [
        "def relative_approximate_error(approximations):\n",
        "    n = approximations.shape[1]\n",
        "    errors = np.zeros([1,n-1])\n",
        "    for i in range(0,n):\n",
        "        errors[0, i-1] = abs(((approximations[0,i] - approximations[0, i-1])/ approximations[0,i]))*100\n",
        "    return errors"
      ],
      "execution_count": 0,
      "outputs": []
    },
    {
      "cell_type": "code",
      "metadata": {
        "id": "8veXgUeLBvKm",
        "colab_type": "code",
        "outputId": "a4ca8af6-13eb-4063-ffe3-2fc217c86610",
        "colab": {
          "base_uri": "https://localhost:8080/",
          "height": 368
        }
      },
      "source": [
        "errors_bisection = relative_approximate_error(results_bisection)\n",
        "print(errors_bisection)\n",
        "plt.plot(errors_bisection.T, 'r*-')\n",
        "#plt.axis([0, 25, 0, 3])\n",
        "plt.xlabel('Iterations')\n",
        "plt.ylabel('errors')\n",
        "plt.show()"
      ],
      "execution_count": 0,
      "outputs": [
        {
          "output_type": "stream",
          "text": [
            "[[2.00000000e+01 9.09090909e+00 4.76190476e+00 2.43902439e+00\n",
            "  1.23456790e+00 6.21118012e-01 3.11526480e-01 1.56006240e-01\n",
            "  7.79423227e-02 3.89559797e-02 1.94741967e-02 9.73615033e-03\n",
            "  4.86783819e-03 2.43397834e-03 1.21697436e-03 6.08483477e-04\n",
            "  3.04242664e-04 1.52121101e-04 7.60606081e-05]]\n"
          ],
          "name": "stdout"
        },
        {
          "output_type": "display_data",
          "data": {
            "image/png": "[encoded data removed]",
            "text/plain": [
              "<Figure size 432x288 with 1 Axes>"
            ]
          },
          "metadata": {
            "tags": []
          }
        }
      ]
    },
    {
      "cell_type": "markdown",
      "metadata": {
        "id": "Im0UfakIzYy2",
        "colab_type": "text"
      },
      "source": [
        "### Task 02\n",
        "1. You are working for a start-up computer assembly company and have been asked to determine the minimum number of computers that the shop will have to sell to make a profit. The equation that gives the minimum number of computers  to be sold after considering the total costs and the total sales is $$f(x)=40x^{1.5} - 875x+35000=0 $$ Use the Newton-Raphson method of finding roots of equations to find the minimum number of computers that need to be sold to make a profit. [See the lecture materials for the algorithm] Conduct **20 iterations**  to estimate the root of the above equation. Find the absolute relative approximate error at the end of each iteration and the number of significant digits at least correct at the end of each iteration. Use the function name as **my_newton_raphson_method()** which will return your result. \n",
        "\n",
        "2. The return value of the function will be a **numpy** array containing 20 approximations. Now use the previously written **relative_approximate_error()** function to calculate the relative approximate errors and save them for use later on. \n",
        "\n"
      ]
    },
    {
      "cell_type": "code",
      "metadata": {
        "id": "wOLzplKkCpdt",
        "colab_type": "code",
        "colab": {}
      },
      "source": [
        "def fprime(x):\n",
        "  return 60*pow(x,.5)-875"
      ],
      "execution_count": 0,
      "outputs": []
    },
    {
      "cell_type": "code",
      "metadata": {
        "id": "B603Ivm3zYGf",
        "colab_type": "code",
        "colab": {}
      },
      "source": [
        "def my_newton_raphson_method(x0,n):\n",
        "  approximations = np.zeros([1,n])\n",
        "  #x1=x0-f(x0)/fprime(x0)\n",
        "  x1 = x0\n",
        "  \n",
        "  for i in range(0,n):\n",
        "    x_new = x1- f(x1)/fprime(x1)\n",
        "    \n",
        "    approximations[0,i] =x_new\n",
        "    x1=x_new\n",
        "  \n",
        "  return approximations\n",
        "    \n",
        "  \n",
        "  \n",
        "    "
      ],
      "execution_count": 0,
      "outputs": []
    },
    {
      "cell_type": "code",
      "metadata": {
        "id": "FtfkRUXuGmwt",
        "colab_type": "code",
        "outputId": "9a79afbd-4805-4d3a-e772-7217e115ccb7",
        "colab": {
          "base_uri": "https://localhost:8080/",
          "height": 85
        }
      },
      "source": [
        "results_newton_raphson = my_newton_raphson_method(2, 20)\n",
        "print(results_newton_raphson)"
      ],
      "execution_count": 0,
      "outputs": [
        {
          "output_type": "stream",
          "text": [
            "[[44.22395228 61.1733583  62.68084445 62.69169659 62.69169715 62.69169715\n",
            "  62.69169715 62.69169715 62.69169715 62.69169715 62.69169715 62.69169715\n",
            "  62.69169715 62.69169715 62.69169715 62.69169715 62.69169715 62.69169715\n",
            "  62.69169715 62.69169715]]\n"
          ],
          "name": "stdout"
        }
      ]
    },
    {
      "cell_type": "code",
      "metadata": {
        "id": "_pWg2NMlHSZs",
        "colab_type": "code",
        "outputId": "36a8add5-3b7a-4f64-d756-19ce3894b201",
        "colab": {
          "base_uri": "https://localhost:8080/",
          "height": 286
        }
      },
      "source": [
        "plt.plot(results_newton_raphson.T, 'b^-')"
      ],
      "execution_count": 0,
      "outputs": [
        {
          "output_type": "execute_result",
          "data": {
            "text/plain": [
              "[<matplotlib.lines.Line2D at 0x7f8106193a20>]"
            ]
          },
          "metadata": {
            "tags": []
          },
          "execution_count": 78
        },
        {
          "output_type": "display_data",
          "data": {
            "image/png": "[encoded data removed]",
            "text/plain": [
              "<Figure size 432x288 with 1 Axes>"
            ]
          },
          "metadata": {
            "tags": []
          }
        }
      ]
    },
    {
      "cell_type": "code",
      "metadata": {
        "id": "diwWocZ6GaJW",
        "colab_type": "code",
        "outputId": "2603cc83-87e4-4e32-84de-369e1a1ed683",
        "colab": {
          "base_uri": "https://localhost:8080/",
          "height": 368
        }
      },
      "source": [
        "errors_newton_raphson = relative_approximate_error(results_newton_raphson)\n",
        "print(errors_newton_raphson)\n",
        "plt.plot(errors_newton_raphson.T, 'r*-')\n",
        "#plt.axis([0, 25, 0, 3])\n",
        "plt.xlabel('Iterations')\n",
        "plt.ylabel('errors')\n",
        "plt.show()"
      ],
      "execution_count": 0,
      "outputs": [
        {
          "output_type": "stream",
          "text": [
            "[[2.77071694e+01 2.40501889e+00 1.73103351e-02 8.89911224e-07\n",
            "  3.40017627e-14 0.00000000e+00 0.00000000e+00 0.00000000e+00\n",
            "  0.00000000e+00 0.00000000e+00 0.00000000e+00 0.00000000e+00\n",
            "  0.00000000e+00 0.00000000e+00 0.00000000e+00 0.00000000e+00\n",
            "  0.00000000e+00 0.00000000e+00 0.00000000e+00]]\n"
          ],
          "name": "stdout"
        },
        {
          "output_type": "display_data",
          "data": {
            "image/png": "[encoded data removed]",
            "text/plain": [
              "<Figure size 432x288 with 1 Axes>"
            ]
          },
          "metadata": {
            "tags": []
          }
        }
      ]
    },
    {
      "cell_type": "markdown",
      "metadata": {
        "id": "v9A-VxFK0jGm",
        "colab_type": "text"
      },
      "source": [
        "### Task 03\n",
        "1. You are working for a start-up computer assembly company and have been asked to determine the minimum number of computers that the shop will have to sell to make a profit. The equation that gives the minimum number of computers  to be sold after considering the total costs and the total sales is $$f(x)=40x^{1.5} - 875x+35000=0 $$ Use the Secant method of finding roots of equations to find the minimum number of computers that need to be sold to make a profit. [See the lecture materials for the algorithm] Conduct **20 iterations**  to estimate the root of the above equation. Find the absolute relative approximate error at the end of each iteration and the number of significant digits at least correct at the end of each iteration. Use the function name as **my_secant_method()** which will return your result. \n",
        "\n",
        "2. The return value of the function will be a **numpy** array containing 20 approximations. Now use the previously written **relative_approximate_error()** function to calculate the relative approximate errors and save them for use later on. "
      ]
    },
    {
      "cell_type": "code",
      "metadata": {
        "id": "ZzIUiV6X0h0u",
        "colab_type": "code",
        "colab": {}
      },
      "source": [
        "def my_secant_method(x0,x1,n):\n",
        "  approximations = np.zeros([1,n])\n",
        "  xi=x1\n",
        "  x_old = x0\n",
        "  for i in range(0,n):\n",
        "    if (f(xi)-f(x_old))!=0:\n",
        "      x_new = xi-((f(xi)*(xi-x_old))/(f(xi)-f(x_old)))\n",
        "    approximations[0,i]=x_new\n",
        "    x_old=xi\n",
        "    xi=x_new\n",
        "  \n",
        "  return approximations\n"
      ],
      "execution_count": 0,
      "outputs": []
    },
    {
      "cell_type": "code",
      "metadata": {
        "id": "uBp5vPL3K2dq",
        "colab_type": "code",
        "outputId": "64e02074-b87d-42fd-8a52-7046688ea2db",
        "colab": {
          "base_uri": "https://localhost:8080/",
          "height": 85
        }
      },
      "source": [
        "results_secant = my_secant_method(2,3, 20)\n",
        "print(results_secant)"
      ],
      "execution_count": 0,
      "outputs": [
        {
          "output_type": "stream",
          "text": [
            "[[44.75730156 57.93204467 62.30376998 62.68304139 62.69168126 62.69169715\n",
            "  62.69169715 62.69169715 62.69169715 62.69169715 62.69169715 62.69169715\n",
            "  62.69169715 62.69169715 62.69169715 62.69169715 62.69169715 62.69169715\n",
            "  62.69169715 62.69169715]]\n"
          ],
          "name": "stdout"
        }
      ]
    },
    {
      "cell_type": "code",
      "metadata": {
        "id": "EKiDiKCfLg3w",
        "colab_type": "code",
        "outputId": "43fbf868-aabc-4f59-f5d0-64781ea69b4b",
        "colab": {
          "base_uri": "https://localhost:8080/",
          "height": 286
        }
      },
      "source": [
        "plt.plot(results_secant.T, 'b^-')"
      ],
      "execution_count": 0,
      "outputs": [
        {
          "output_type": "execute_result",
          "data": {
            "text/plain": [
              "[<matplotlib.lines.Line2D at 0x7f8105f9b4a8>]"
            ]
          },
          "metadata": {
            "tags": []
          },
          "execution_count": 82
        },
        {
          "output_type": "display_data",
          "data": {
            "image/png": "[encoded data removed]",
            "text/plain": [
              "<Figure size 432x288 with 1 Axes>"
            ]
          },
          "metadata": {
            "tags": []
          }
        }
      ]
    },
    {
      "cell_type": "code",
      "metadata": {
        "id": "XUaEiEhKL3w4",
        "colab_type": "code",
        "outputId": "1719207c-c710-4ced-cf06-935f5cd8cb95",
        "colab": {
          "base_uri": "https://localhost:8080/",
          "height": 368
        }
      },
      "source": [
        "errors_secant = relative_approximate_error(results_secant)\n",
        "print(errors_secant)\n",
        "plt.plot(errors_secant.T, 'r*-')\n",
        "#plt.axis([0, 25, 0, 3])\n",
        "plt.xlabel('Iterations')\n",
        "plt.ylabel('errors')\n",
        "plt.show()"
      ],
      "execution_count": 0,
      "outputs": [
        {
          "output_type": "stream",
          "text": [
            "[[2.27417195e+01 7.01679098e+00 6.05062221e-01 1.37815281e-02\n",
            "  2.53496067e-05 1.03939988e-09 0.00000000e+00 0.00000000e+00\n",
            "  0.00000000e+00 0.00000000e+00 0.00000000e+00 0.00000000e+00\n",
            "  0.00000000e+00 0.00000000e+00 0.00000000e+00 0.00000000e+00\n",
            "  0.00000000e+00 0.00000000e+00 0.00000000e+00]]\n"
          ],
          "name": "stdout"
        },
        {
          "output_type": "display_data",
          "data": {
            "image/png": "[encoded data removed]",
            "text/plain": [
              "<Figure size 432x288 with 1 Axes>"
            ]
          },
          "metadata": {
            "tags": []
          }
        }
      ]
    },
    {
      "cell_type": "markdown",
      "metadata": {
        "id": "To6pZtHA1IHO",
        "colab_type": "text"
      },
      "source": [
        "### Task 04\n",
        "1. You are working for a start-up computer assembly company and have been asked to determine the minimum number of computers that the shop will have to sell to make a profit. The equation that gives the minimum number of computers  to be sold after considering the total costs and the total sales is $$f(x)=40x^{1.5} - 875x+35000=0 $$ Use the False Position method of finding roots of equations to find the minimum number of computers that need to be sold to make a profit. [See the lecture materials for the algorithm] Conduct **20 iterations**  to estimate the root of the above equation. Find the absolute relative approximate error at the end of each iteration and the number of significant digits at least correct at the end of each iteration. Use the function name as **my_false_position_method()** which will return your result. \n",
        "\n",
        "2. The return value of the function will be a **numpy** array containing 20 approximations. Now use the previously written **relative_approximate_error()** function to calculate the relative approximate errors and save them for use later on. "
      ]
    },
    {
      "cell_type": "code",
      "metadata": {
        "id": "6i8NaCE01V5m",
        "colab_type": "code",
        "colab": {}
      },
      "source": [
        "def my_false_position_method(xL,xU,n):\n",
        "  approximations = np.zeros([1,n])\n",
        "  for i in range(0,n):\n",
        "    if(xL!=xU):\n",
        "      xR = (xU*f(xL)-xL*f(xU))/(f(xL)-f(xU))\n",
        "    else:\n",
        "      xR=xL\n",
        "    approximations[0,i]=xR\n",
        "    if(f(xL)*f(xR)<0):\n",
        "      xL=xL\n",
        "      xU=xR\n",
        "    elif(f(xL)*f(xR)>0):\n",
        "      xL=xR\n",
        "      xU=xU\n",
        "    else:\n",
        "      break\n",
        "      \n",
        "  \n",
        "  return approximations"
      ],
      "execution_count": 0,
      "outputs": []
    },
    {
      "cell_type": "code",
      "metadata": {
        "id": "BHywy_tWOyNA",
        "colab_type": "code",
        "outputId": "278fbe2c-92bf-4044-ecdd-e47b1d47f732",
        "colab": {
          "base_uri": "https://localhost:8080/",
          "height": 85
        }
      },
      "source": [
        "results_false_position = my_false_position_method(2,3, 20)\n",
        "print(results_false_position)"
      ],
      "execution_count": 0,
      "outputs": [
        {
          "output_type": "stream",
          "text": [
            "[[44.75730156 57.93204467 61.4231633  62.35288102 62.60114421 62.6674915\n",
            "  62.68522645 62.68996737 62.69123474 62.69157354 62.69166411 62.69168832\n",
            "  62.69169479 62.69169652 62.69169698 62.69169711 62.69169714 62.69169715\n",
            "  62.69169715 62.69169715]]\n"
          ],
          "name": "stdout"
        }
      ]
    },
    {
      "cell_type": "code",
      "metadata": {
        "id": "-shiSKUcPJu5",
        "colab_type": "code",
        "outputId": "1c2e9b03-9720-434f-9f5c-7862512b82cb",
        "colab": {
          "base_uri": "https://localhost:8080/",
          "height": 286
        }
      },
      "source": [
        "plt.plot(results_false_position.T, 'b^-')"
      ],
      "execution_count": 0,
      "outputs": [
        {
          "output_type": "execute_result",
          "data": {
            "text/plain": [
              "[<matplotlib.lines.Line2D at 0x7f8105ed9b00>]"
            ]
          },
          "metadata": {
            "tags": []
          },
          "execution_count": 86
        },
        {
          "output_type": "display_data",
          "data": {
            "image/png": "[encoded data removed]",
            "text/plain": [
              "<Figure size 432x288 with 1 Axes>"
            ]
          },
          "metadata": {
            "tags": []
          }
        }
      ]
    },
    {
      "cell_type": "code",
      "metadata": {
        "id": "bFIMbWuePJ7E",
        "colab_type": "code",
        "outputId": "69e4fdce-9bc8-4be8-b715-100ddd23035f",
        "colab": {
          "base_uri": "https://localhost:8080/",
          "height": 368
        }
      },
      "source": [
        "errors_false_position = relative_approximate_error(results_false_position)\n",
        "print(errors_false_position)\n",
        "plt.plot(errors_false_position.T, 'r*-')\n",
        "#plt.axis([0, 25, 0, 3])\n",
        "plt.xlabel('Iterations')\n",
        "plt.ylabel('errors')\n",
        "plt.show()"
      ],
      "execution_count": 0,
      "outputs": [
        {
          "output_type": "stream",
          "text": [
            "[[2.27417195e+01 5.68371676e+00 1.49105817e+00 3.96579312e-01\n",
            "  1.05871941e-01 2.82920715e-02 7.56248403e-03 2.02159972e-03\n",
            "  5.40423406e-04 1.44469226e-04 3.86204324e-05 1.03242634e-05\n",
            "  2.75994905e-06 7.37807480e-07 1.97235487e-07 5.27262727e-08\n",
            "  1.40951474e-08 3.76799600e-09 1.00727955e-09]]\n"
          ],
          "name": "stdout"
        },
        {
          "output_type": "display_data",
          "data": {
            "image/png": "[encoded data removed]",
            "text/plain": [
              "<Figure size 432x288 with 1 Axes>"
            ]
          },
          "metadata": {
            "tags": []
          }
        }
      ]
    },
    {
      "cell_type": "markdown",
      "metadata": {
        "id": "2siKFVy51pwe",
        "colab_type": "text"
      },
      "source": [
        "### Task 05\n",
        "1. Now write python code to plot all the approximation in one graph with appropriate labels and legends(markers)\n",
        "2. Write python code plotting the errors generated in each of the methods in a single figure. \n",
        "\n",
        "*###For plotting related problem, please follow the documentation in the link [Matplotlib documentations](https://matplotlib.org/tutorials/introductory/pyplot.html#sphx-glr-tutorials-introductory-pyplot-py)*"
      ]
    },
    {
      "cell_type": "code",
      "metadata": {
        "id": "gVp4bT1AP4PN",
        "colab_type": "code",
        "outputId": "bd1b9f73-167d-4429-a675-cbc16a55504e",
        "colab": {
          "base_uri": "https://localhost:8080/",
          "height": 295
        }
      },
      "source": [
        "plt.plot(results_bisection.T, 'r*-')\n",
        "plt.plot(results_newton_raphson.T, 'b*-')\n",
        "plt.plot(results_secant.T, 'g*-')\n",
        "plt.plot(results_false_position.T, 'y*-')\n",
        "plt.legend(['bisection','newton raphson','secant','false position'])\n",
        "plt.title('Approximations')\n",
        "plt.xlabel('Iterations')\n",
        "plt.ylabel('values')\n",
        "plt.show()"
      ],
      "execution_count": 0,
      "outputs": [
        {
          "output_type": "display_data",
          "data": {
            "image/png": "[encoded data removed]",
            "text/plain": [
              "<Figure size 432x288 with 1 Axes>"
            ]
          },
          "metadata": {
            "tags": []
          }
        }
      ]
    },
    {
      "cell_type": "code",
      "metadata": {
        "id": "vlqwtCJC2kzE",
        "colab_type": "code",
        "outputId": "02eb89a2-00c3-4d4e-a6ab-0fc0da810082",
        "colab": {
          "base_uri": "https://localhost:8080/",
          "height": 295
        }
      },
      "source": [
        "plt.plot(errors_bisection.T, 'r*-')\n",
        "plt.plot(errors_newton_raphson.T, 'b*-')\n",
        "plt.plot(errors_secant.T, 'g*-')\n",
        "plt.plot(errors_false_position.T, 'y*-')\n",
        "plt.legend(['bisection','newton raphson','secant','false position'])\n",
        "plt.title('Errors')\n",
        "plt.xlabel('Iterations')\n",
        "plt.ylabel('errors')\n",
        "plt.show()"
      ],
      "execution_count": 0,
      "outputs": [
        {
          "output_type": "display_data",
          "data": {
            "image/png": "[encoded data removed]",
            "text/plain": [
              "<Figure size 432x288 with 1 Axes>"
            ]
          },
          "metadata": {
            "tags": []
          }
        }
      ]
    },
    {
      "cell_type": "code",
      "metadata": {
        "id": "rZcthXyxQvef",
        "colab_type": "code",
        "colab": {}
      },
      "source": [
        ""
      ],
      "execution_count": 0,
      "outputs": []
    }
  ]
}