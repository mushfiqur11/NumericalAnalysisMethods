{
  "nbformat": 4,
  "nbformat_minor": 0,
  "metadata": {
    "colab": {
      "name": "160041011_NumericalAnalysisLab-03.ipynb",
      "version": "0.3.2",
      "provenance": [],
      "collapsed_sections": [],
      "include_colab_link": true
    },
    "kernelspec": {
      "name": "python3",
      "display_name": "Python 3"
    }
  },
  "cells": [
    {
      "cell_type": "markdown",
      "metadata": {
        "id": "view-in-github",
        "colab_type": "text"
      },
      "source": [
        "<a href=\"https://colab.research.google.com/github/mushfiqur11/NumericalAnalysisMethods/blob/master/160041011_NumericalAnalysisLab_03.ipynb\" target=\"_parent\"><img src=\"https://colab.research.google.com/assets/colab-badge.svg\" alt=\"Open In Colab\"/></a>"
      ]
    },
    {
      "cell_type": "markdown",
      "metadata": {
        "id": "gpj4ww65Jmz8",
        "colab_type": "text"
      },
      "source": [
        "# Numerical Analysis Lab\n",
        "\n",
        "## Md. Mushfiqur Rahman\n",
        "### 160041011\n",
        "\n",
        "##Lab - 3"
      ]
    },
    {
      "cell_type": "code",
      "metadata": {
        "id": "ZXDqSptXJjVY",
        "colab_type": "code",
        "colab": {}
      },
      "source": [
        "import numpy as np\n",
        "import matplotlib.pyplot as plt"
      ],
      "execution_count": 0,
      "outputs": []
    },
    {
      "cell_type": "markdown",
      "metadata": {
        "id": "Xg3I35cfKE0h",
        "colab_type": "text"
      },
      "source": [
        "### Task 01"
      ]
    },
    {
      "cell_type": "markdown",
      "metadata": {
        "id": "S027Uc0zKMqZ",
        "colab_type": "text"
      },
      "source": [
        "#### Implementation of Newton Divided Difference Method"
      ]
    },
    {
      "cell_type": "markdown",
      "metadata": {
        "id": "-G_alrmOvpSs",
        "colab_type": "text"
      },
      "source": [
        "The following function is an implementation of the Newton Divided Difference Method. The function takes in 3 inputs. Arrays x and y of same size and an integer n. From the three values, $b_0 , b_1, b_2 ... b_n$ are calculated.\n",
        "First a 2D array was taken. Here, each column represent the a series of f. The first column of the array is the y itself. In the each consecutive column, $f$ was calculated using the formula of Newton Divided Difference. The topmest element of each column, that is, the entire first row is basically the array $b_0 , b_1, b_2 ... b_n$."
      ]
    },
    {
      "cell_type": "code",
      "metadata": {
        "id": "gXM-9F3WKDKB",
        "colab_type": "code",
        "colab": {}
      },
      "source": [
        "def NewtonDividedDifference(x, y, n):\n",
        "    if (n> np.shape(y)[0]):\n",
        "      n=np.shape(y)[0]\n",
        "    pyramid = np.zeros([np.shape(y)[0], np.shape(y)[0]])\n",
        "    pyramid[::,0] = y\n",
        "    s=np.shape(y)[0]\n",
        "    for j in range(1,n):\n",
        "        for i in range(s-j):\n",
        "            pyramid[i][j] = (pyramid[i+1][j-1] - pyramid[i][j-1]) / (x[i+j] - x[i])\n",
        "    return [pyramid[0], n]"
      ],
      "execution_count": 0,
      "outputs": []
    },
    {
      "cell_type": "code",
      "metadata": {
        "id": "Rc6qrVN-Lb8z",
        "colab_type": "code",
        "outputId": "81c882b6-17ed-4a2f-c524-d71c34689bcb",
        "colab": {
          "base_uri": "https://localhost:8080/",
          "height": 51
        }
      },
      "source": [
        "NewtonDividedDifference([10,15,20,22.5,30],[227.04,362.78,517.35,602.97,901.67],6)"
      ],
      "execution_count": 0,
      "outputs": [
        {
          "output_type": "execute_result",
          "data": {
            "text/plain": [
              "[array([2.27040000e+02, 2.71480000e+01, 3.76600000e-01, 5.43466667e-03,\n",
              "        1.06044444e-04]), 5]"
            ]
          },
          "metadata": {
            "tags": []
          },
          "execution_count": 131
        }
      ]
    },
    {
      "cell_type": "markdown",
      "metadata": {
        "id": "U7yfP-U_zzFJ",
        "colab_type": "text"
      },
      "source": [
        "The following function uses the Newton Divided Difference function created above to calculate the y of a given x. The function takes in 4 inputs. One of them is the value of x. The other three are respectively array X, array Y and integer n. X, Y and n are used to find the $b0,b1,b2...bn$ and then y is calculated from it using the formula: $$ y= b_0+b_1(x-x_0)+b_2(x-x_0)(x-x_1) + ...$$"
      ]
    },
    {
      "cell_type": "code",
      "metadata": {
        "id": "07lP7tn3MQOy",
        "colab_type": "code",
        "colab": {}
      },
      "source": [
        "def NewtonDividedDifferenceInterpolation(val, X, Y, N):\n",
        "  [pyramid,n] = NewtonDividedDifference(X,Y,N)\n",
        "  calculatedValue = 0\n",
        "  temp = np.ones(np.shape(pyramid)[0])\n",
        "  for i in range(0,n-1):\n",
        "    for j in range(0,i):\n",
        "      temp[j] = val-X[j]\n",
        "      #print(val - X[j])\n",
        "    print(temp)\n",
        "    newVal = pyramid[i]\n",
        "    for j in range(0,i):\n",
        "      newVal = newVal * temp[j]\n",
        "    calculatedValue = calculatedValue + newVal\n",
        "    print(calculatedValue)\n",
        "  return calculatedValue"
      ],
      "execution_count": 0,
      "outputs": []
    },
    {
      "cell_type": "code",
      "metadata": {
        "id": "wQX81hHzSBzK",
        "colab_type": "code",
        "outputId": "30ce7d2e-9737-47e5-9816-72f1c1f05444",
        "colab": {
          "base_uri": "https://localhost:8080/",
          "height": 136
        }
      },
      "source": [
        "NewtonDividedDifferenceInterpolation(16,[10,15,20,22.5,30],[227.04,362.78,517.35,602.97,901.67],4)"
      ],
      "execution_count": 0,
      "outputs": [
        {
          "output_type": "stream",
          "text": [
            "[1. 1. 1. 1. 1.]\n",
            "227.04\n",
            "[6. 1. 1. 1. 1.]\n",
            "389.928\n",
            "[6. 1. 1. 1. 1.]\n",
            "392.18760000000003\n"
          ],
          "name": "stdout"
        },
        {
          "output_type": "execute_result",
          "data": {
            "text/plain": [
              "392.18760000000003"
            ]
          },
          "metadata": {
            "tags": []
          },
          "execution_count": 139
        }
      ]
    },
    {
      "cell_type": "code",
      "metadata": {
        "id": "liUOHv2SSDuf",
        "colab_type": "code",
        "colab": {}
      },
      "source": [
        ""
      ],
      "execution_count": 0,
      "outputs": []
    }
  ]
}